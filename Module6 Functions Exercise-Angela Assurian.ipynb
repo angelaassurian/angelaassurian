{
 "cells": [
  {
   "cell_type": "markdown",
   "metadata": {},
   "source": [
    "1. Round 4.5667 to the nearest hundreth using a build-in function, round()."
   ]
  },
  {
   "cell_type": "code",
   "execution_count": 1,
   "metadata": {},
   "outputs": [
    {
     "data": {
      "text/plain": [
       "4.57"
      ]
     },
     "execution_count": 1,
     "metadata": {},
     "output_type": "execute_result"
    }
   ],
   "source": [
    "round(4.5667,2)"
   ]
  },
  {
   "cell_type": "markdown",
   "metadata": {},
   "source": [
    "2. Convert \"657\" to an integer data type"
   ]
  },
  {
   "cell_type": "code",
   "execution_count": 7,
   "metadata": {},
   "outputs": [
    {
     "name": "stdout",
     "output_type": "stream",
     "text": [
      "657\n"
     ]
    },
    {
     "data": {
      "text/plain": [
       "int"
      ]
     },
     "execution_count": 7,
     "metadata": {},
     "output_type": "execute_result"
    }
   ],
   "source": [
    "x=\"657\"\n",
    "x1=int(x)\n",
    "print(x1)\n",
    "type(x1)"
   ]
  },
  {
   "cell_type": "markdown",
   "metadata": {},
   "source": [
    "3.\n",
    "Write a program to get two numbers from a user. Then, create a secret code where a code consists of 6 numbers and each number is randomly generated number between two numbers from a user. "
   ]
  },
  {
   "cell_type": "code",
   "execution_count": 16,
   "metadata": {},
   "outputs": [
    {
     "name": "stdout",
     "output_type": "stream",
     "text": [
      "Secret code generator!\n",
      "Insert first number:1\n",
      "Insert second number:9\n",
      "7 5 6 9 9 8\n",
      "*\n",
      "Secret code generator!\n",
      "Insert first number:1\n",
      "Insert second number:7\n",
      "3 1 4 4 4 4\n",
      "*\n",
      "Secret code generator!\n",
      "Insert first number:0\n",
      "Insert second number:8\n",
      "3 5 6 0 6 2\n",
      "*\n"
     ]
    }
   ],
   "source": [
    "import random as rand\n",
    "def ran2():\n",
    "    print(\"Secret code generator!\")\n",
    "    num1=int(input(\"Insert first number:\"))\n",
    "    num2=int(input(\"Insert second number:\"))\n",
    "    print(rand.randint(num1, num2),rand.randint(num1,num2),rand.randint(num1,num2),rand.randint(num1,num2),rand.randint(num1,num2),rand.randint(num1,num2))\n",
    "    return\n",
    "ran2()\n",
    "print(\"*\")\n",
    "ran2()\n",
    "print(\"*\")\n",
    "ran2()\n",
    "print(\"*\")"
   ]
  },
  {
   "cell_type": "markdown",
   "metadata": {},
   "source": [
    "4.\n",
    "Write a program to center align below text where number of characters per line is 40:\n",
    "\n",
    "    Hickory, dickory, dock,\n",
    "    The mouse ran up the clock.\n",
    "    The clock struck one,\n",
    "    The mouse ran down,\n",
    "    Hickory, dickory, dock\n",
    "\n",
    "<b>Do not use string's center method! </b>"
   ]
  },
  {
   "cell_type": "code",
   "execution_count": 25,
   "metadata": {},
   "outputs": [
    {
     "name": "stdout",
     "output_type": "stream",
     "text": [
      "        Hickory, dickory, dock,        \n",
      "      The mouse ran up the clock.      \n",
      "         The clock struck one,         \n",
      "          The mouse ran down,          \n",
      "         Hickory, dickory, dock         \n",
      "****\n",
      "        Hickory, dickory, dock,         \n",
      "      The mouse ran up the clock.       \n",
      "         The clock struck one,          \n",
      "          The mouse ran down,           \n",
      "         Hickory, dickory, dock         \n"
     ]
    }
   ],
   "source": [
    "line1 = \"Hickory, dickory, dock,\"\n",
    "line2 = \"The mouse ran up the clock.\"\n",
    "line3 = \"The clock struck one,\"\n",
    "line4 = \"The mouse ran down,\"\n",
    "line5 = \"Hickory, dickory, dock\"\n",
    "\n",
    "def centered():\n",
    "    l1=len(line1)\n",
    "    l2=len(line2)\n",
    "    l3=len(line3)\n",
    "    l4=len(line4)\n",
    "    l5=len(line5)\n",
    "    ll1=int((40-l1)/2)\n",
    "    ll2=int((40-l2)/2)\n",
    "    ll3=int((40-l3)/2)\n",
    "    ll4=int((40-l4)/2)\n",
    "    ll5=int((40-l5)/2)\n",
    "    r1=ll1*\" \"\n",
    "    r2=ll2*\" \"\n",
    "    r3=ll3*\" \"\n",
    "    r4=ll4*\" \"\n",
    "    r5=ll5*\" \"\n",
    "    print(r1+line1+r1)\n",
    "    print(r2+line2+r2)\n",
    "    print(r3+line3+r3)\n",
    "    print(r4+line4+r4)\n",
    "    print(r5+line5+r5)\n",
    "    return\n",
    "centered()\n",
    "\n",
    "\n",
    "print(\"****\")\n",
    "\n",
    "#comparing to my function\n",
    "print(line1.center(40))\n",
    "print(line2.center(40))\n",
    "print(line3.center(40))\n",
    "print(line4.center(40))\n",
    "print(line5.center(40))\n",
    "    \n"
   ]
  },
  {
   "cell_type": "markdown",
   "metadata": {},
   "source": [
    "5. Write a function to calculate the miles per gallon.\n",
    "Get a miles driven and gallons used from a user and call your function to calculate the miles per gallon. "
   ]
  },
  {
   "cell_type": "code",
   "execution_count": 4,
   "metadata": {},
   "outputs": [
    {
     "name": "stdout",
     "output_type": "stream",
     "text": [
      "Let's calculate your car's average miles per gallon!\n",
      "Enter the number of miles driven:200\n",
      "Enter the gallons used:10\n",
      "Fuel economy is 20.0 miles per gallon\n"
     ]
    }
   ],
   "source": [
    "def mpg():\n",
    "    print(\"Let's calculate your car's average miles per gallon!\")\n",
    "    milesDriven=int(input(\"Enter the number of miles driven:\"))\n",
    "    gallonsUsed=int(input(\"Enter the gallons used:\"))\n",
    "    mpg=milesDriven/gallonsUsed\n",
    "    print(f\"Fuel economy is {mpg} miles per gallon\")\n",
    "    return\n",
    "mpg()"
   ]
  },
  {
   "cell_type": "code",
   "execution_count": null,
   "metadata": {},
   "outputs": [],
   "source": []
  }
 ],
 "metadata": {
  "kernelspec": {
   "display_name": "Python 3 (ipykernel)",
   "language": "python",
   "name": "python3"
  },
  "language_info": {
   "codemirror_mode": {
    "name": "ipython",
    "version": 3
   },
   "file_extension": ".py",
   "mimetype": "text/x-python",
   "name": "python",
   "nbconvert_exporter": "python",
   "pygments_lexer": "ipython3",
   "version": "3.9.7"
  }
 },
 "nbformat": 4,
 "nbformat_minor": 4
}
